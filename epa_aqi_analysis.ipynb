{
 "cells": [
  {
   "cell_type": "markdown",
   "metadata": {},
   "source": [
    "# **EPA Air Quality Analysis**  \n",
    "\n",
    "## **Introduction**  \n",
    "\n",
    "Air pollution is a growing concern, and the Air Quality Index (AQI) is a crucial metric used to assess pollution levels. The AQI ranges from 0 to 500, where higher values indicate greater pollution and potential health risks. For example, an AQI below 50 represents good air quality, while an AQI above 300 is considered hazardous.  \n",
    "\n",
    "In this project, we analyze air quality data collected by the U.S. Environmental Protection Agency (EPA) to gain insights into pollution levels across different states and counties. Python data structures such as lists, dictionaries, and sets are used to store and analyze AQI data efficiently.  "
   ]
  },
  {
   "cell_type": "markdown",
   "metadata": {},
   "source": [
    "### Dataset Structure  \n",
    "\n",
    "#### **1. c2_epa_air_quality**  \n",
    "This dataset contains air quality index (AQI) data along with state and county identifiers. It includes the following fields:  \n",
    "\n",
    "- **state_code**: A two-digit string representing the state code.  \n",
    "- **state_name**: The full name of the state.  \n",
    "- **county_code**: A three-digit string representing the county code within the state.  \n",
    "- **county_name**: The name of the county.  \n",
    "- **aqi**: A numerical value representing the air quality index for the county.  \n",
    "- **state_code_int**: An integer representation of the state code.  \n",
    "- **county_code_int**: An integer representation of the county code.  \n",
    "\n",
    "---\n",
    "\n",
    "#### **2. epa_ca_tx_pa**  \n",
    "This dataset focuses on air quality data for California, Texas, and Pennsylvania. It includes:  \n",
    "\n",
    "- **state_code**: A numerical code identifying the state.  \n",
    "- **state_name**: The full name of the state.  \n",
    "- **county_code**: A numerical code identifying the county.  \n",
    "- **county_name**: The full name of the county.  \n",
    "- **aqi**: A numerical value representing the air quality index for that county.  \n",
    "\n",
    "---\n",
    "\n",
    "#### **3. epa_others**  \n",
    "This dataset contains air quality data for states outside of California, Texas, and Pennsylvania. It shares the same structure as *epa_ca_tx_pa*:  \n",
    "\n",
    "- **state_code**: A numerical identifier for the state.  \n",
    "- **state_name**: The full name of the state.  \n",
    "- **county_code**: A numerical identifier for the county.  \n",
    "- **county_name**: The full name of the county.  \n",
    "- **aqi**: A numerical value representing the air quality index for that county.  \n",
    "\n",
    "All three datasets follow a consistent structure, allowing for easy merging and analysis.\n"
   ]
  },
  {
   "cell_type": "markdown",
   "metadata": {},
   "source": [
    "#### **Importing Required Libraries**\n",
    "First, I import the necessary libraries for analysis. "
   ]
  },
  {
   "cell_type": "code",
   "execution_count": 95,
   "metadata": {},
   "outputs": [],
   "source": [
    "import pandas as pd\n",
    "import numpy as np\n",
    "import statistics  \n"
   ]
  },
  {
   "cell_type": "markdown",
   "metadata": {},
   "source": [
    "To begin, we load the dataset containing AQI records along with the state and county where each reading was recorded. Our goal is to structure this data for easy retrieval and analysis."
   ]
  },
  {
   "cell_type": "markdown",
   "metadata": {},
   "source": [
    "We start by converting the raw data into a structured format. Specifically, we create a list of tuples where each tuple contains three key pieces of information:\n",
    "\n",
    "- State Name\n",
    "- County Name\n",
    "- AQI Value\n",
    "  \n",
    "This format ensures that each AQI reading is associated with its respective location."
   ]
  },
  {
   "cell_type": "code",
   "execution_count": 96,
   "metadata": {},
   "outputs": [
    {
     "data": {
      "text/plain": [
       "[('Arizona', 'Maricopa', 18.0),\n",
       " ('Arizona', 'Maricopa', 9.0),\n",
       " ('Arizona', 'Pima', 20.0),\n",
       " ('California', 'Alameda', 11.0),\n",
       " ('California', 'Butte', 6.0)]"
      ]
     },
     "execution_count": 96,
     "metadata": {},
     "output_type": "execute_result"
    }
   ],
   "source": [
    "\n",
    "# Load dataset  \n",
    "epa_data = pd.read_csv(r'C:\\Users\\saswa\\Documents\\GitHub\\EPA-Air-Quality-AQI-Analysis\\Data\\c2_epa_air_quality.csv')  \n",
    "\n",
    "# Convert columns to lists  \n",
    "state_list = epa_data['state_name'].to_list()  \n",
    "county_list = epa_data['county_name'].to_list()  \n",
    "aqi_list = epa_data['aqi'].to_list()  \n",
    "\n",
    "# Create list of tuples  \n",
    "epa_tuples = list(zip(state_list, county_list, aqi_list))  \n",
    "\n",
    "# Display first five records  \n",
    "epa_tuples[:5]"
   ]
  },
  {
   "cell_type": "markdown",
   "metadata": {},
   "source": [
    "### **Creating a Dictionary for AQI Data**\n",
    "To allow for efficient data retrieval, the tuples are converted into a dictionary where states act as keys, and the values are lists of county-level AQI records. This enables quick lookups and better organization of air quality information."
   ]
  },
  {
   "cell_type": "code",
   "execution_count": 97,
   "metadata": {},
   "outputs": [
    {
     "data": {
      "text/plain": [
       "[('Chittenden', 18.0),\n",
       " ('Chittenden', 20.0),\n",
       " ('Chittenden', 3.0),\n",
       " ('Chittenden', 49.0),\n",
       " ('Rutland', 15.0),\n",
       " ('Chittenden', 3.0),\n",
       " ('Chittenden', 6.0),\n",
       " ('Rutland', 3.0),\n",
       " ('Rutland', 6.0),\n",
       " ('Chittenden', 5.0),\n",
       " ('Chittenden', 2.0)]"
      ]
     },
     "execution_count": 97,
     "metadata": {},
     "output_type": "execute_result"
    }
   ],
   "source": [
    "aqi_dict = {}  \n",
    "\n",
    "for state, county, aqi in epa_tuples:  \n",
    "    if state in aqi_dict:  \n",
    "        aqi_dict[state].append((county, aqi))  \n",
    "    else:  \n",
    "        aqi_dict[state] = [(county, aqi)]  \n",
    "\n",
    "# Example: Retrieve data for Vermont  \n",
    "aqi_dict['Vermont']"
   ]
  },
  {
   "cell_type": "markdown",
   "metadata": {},
   "source": [
    "### **Exploring the Data**\n",
    "Now that we have a structured dataset, we can extract meaningful insights from the AQI records."
   ]
  },
  {
   "cell_type": "markdown",
   "metadata": {},
   "source": [
    "### **Number of AQI Readings for Arizona**\n",
    "The total number of AQI readings recorded in Arizona is calculated using Python’s len() function."
   ]
  },
  {
   "cell_type": "code",
   "execution_count": 98,
   "metadata": {},
   "outputs": [
    {
     "name": "stdout",
     "output_type": "stream",
     "text": [
      "72\n"
     ]
    }
   ],
   "source": [
    "recordings_cnt = len(aqi_dict['Arizona'])  \n",
    "print(recordings_cnt)  \n"
   ]
  },
  {
   "cell_type": "markdown",
   "metadata": {},
   "source": [
    "### **Mean AQI for California**\n",
    "To determine the average air quality in California, we compute the mean of all AQI values recorded in the state."
   ]
  },
  {
   "cell_type": "code",
   "execution_count": 99,
   "metadata": {},
   "outputs": [
    {
     "name": "stdout",
     "output_type": "stream",
     "text": [
      "9.412280701754385\n",
      "9.412280701754385\n"
     ]
    }
   ],
   "source": [
    "# Using sum and len  \n",
    "aqi_mean = sum(aqi for county, aqi in aqi_dict['California']) / len(aqi_dict['California'])  \n",
    "print(aqi_mean)  \n",
    "\n",
    "# Using statistics.mean()  \n",
    "aqi_mean1 = statistics.mean(aqi for county, aqi in aqi_dict['California'])  \n",
    "print(aqi_mean1)  "
   ]
  },
  {
   "cell_type": "markdown",
   "metadata": {},
   "source": [
    "### **Analyzing County-Specific AQI Readings**\n",
    "A function is defined to count how many times a county appears in a given state's AQI records. This allows us to assess data distribution across different regions."
   ]
  },
  {
   "cell_type": "code",
   "execution_count": 100,
   "metadata": {},
   "outputs": [],
   "source": [
    "def county_counter(state_name):  \n",
    "    county_dict = {}  \n",
    "    for county, aqi in aqi_dict[state_name]:  \n",
    "        if county in county_dict:  \n",
    "            county_dict[county] += 1  \n",
    "        else:  \n",
    "            county_dict[county] = 1  \n",
    "    return county_dict  \n"
   ]
  },
  {
   "cell_type": "markdown",
   "metadata": {},
   "source": [
    "### **Checking AQI Readings for Washington County, PA**\n",
    "Using county_counter(), we determine how many AQI readings were recorded for Washington County in Pennsylvania."
   ]
  },
  {
   "cell_type": "code",
   "execution_count": 101,
   "metadata": {},
   "outputs": [
    {
     "data": {
      "text/plain": [
       "7"
      ]
     },
     "execution_count": 101,
     "metadata": {},
     "output_type": "execute_result"
    }
   ],
   "source": [
    "pa_dict = county_counter('Pennsylvania')  \n",
    "pa_dict['Washington']  \n"
   ]
  },
  {
   "cell_type": "markdown",
   "metadata": {},
   "source": [
    "### **Listing Counties in Indiana**\n",
    "Retrieving the names of counties represented in Indiana’s AQI records."
   ]
  },
  {
   "cell_type": "code",
   "execution_count": 102,
   "metadata": {},
   "outputs": [
    {
     "data": {
      "text/plain": [
       "dict_keys(['Marion', 'St. Joseph', 'Vanderburgh', 'Allen', 'Vigo', 'Hendricks', 'Lake'])"
      ]
     },
     "execution_count": 102,
     "metadata": {},
     "output_type": "execute_result"
    }
   ],
   "source": [
    "county_counter(\"Indiana\").keys()\n"
   ]
  },
  {
   "cell_type": "markdown",
   "metadata": {},
   "source": [
    "### **Finding Counties with Duplicate Names**\n",
    "To check how many counties share the same name across different states, we compile a list of all counties and analyze name repetitions."
   ]
  },
  {
   "cell_type": "code",
   "execution_count": 103,
   "metadata": {},
   "outputs": [
    {
     "name": "stdout",
     "output_type": "stream",
     "text": [
      "277\n"
     ]
    }
   ],
   "source": [
    "# Constructing a list of every county in the dataset  \n",
    "all_counties = []  \n",
    "for state_name in aqi_dict.keys():  \n",
    "    all_counties += list(county_counter(state_name).keys())  \n",
    "\n",
    "# Finding total number of counties  \n",
    "print(len(all_counties))  \n"
   ]
  },
  {
   "cell_type": "markdown",
   "metadata": {},
   "source": [
    "### **Calculating Counties with Duplicate Names**\n",
    "Using a set and list methods, we determine the number of county names that appear more than once across states."
   ]
  },
  {
   "cell_type": "code",
   "execution_count": 104,
   "metadata": {},
   "outputs": [
    {
     "name": "stdout",
     "output_type": "stream",
     "text": [
      "41\n"
     ]
    }
   ],
   "source": [
    "shared_count = 0  \n",
    "\n",
    "for county in set(all_counties):  \n",
    "    count = all_counties.count(county)  \n",
    "    if count > 1:  \n",
    "        shared_count += count  \n",
    "\n",
    "print(shared_count)  \n"
   ]
  },
  {
   "cell_type": "markdown",
   "metadata": {},
   "source": [
    "Note: This doesn't tell us how many different county names were duplicated. Further analysis could uncover more details about this."
   ]
  },
  {
   "cell_type": "markdown",
   "metadata": {},
   "source": [
    "If we want to find out how many different county names are duplicated:"
   ]
  },
  {
   "cell_type": "code",
   "execution_count": 105,
   "metadata": {},
   "outputs": [
    {
     "name": "stdout",
     "output_type": "stream",
     "text": [
      "18\n"
     ]
    }
   ],
   "source": [
    "county_count = 0  \n",
    "\n",
    "for county in set(all_counties):  \n",
    "    count1 = all_counties.count(county)  \n",
    "    if count1 > 1:  \n",
    "        county_count += 1  \n",
    "\n",
    "print(county_count)  \n"
   ]
  },
  {
   "cell_type": "markdown",
   "metadata": {},
   "source": [
    "## **Vectorized Operations: Using NumPy for Efficient Analysis**\n",
    "\n",
    "In this section, I used NumPy, a powerful library for numerical computing, to analyze AQI data. NumPy provides fast operations on large arrays, enabling efficient calculations on the dataset."
   ]
  },
  {
   "cell_type": "markdown",
   "metadata": {},
   "source": [
    "### **Converting AQI Data into an Array**\n",
    "Using the AQI data list, I convert it into a NumPy ndarray for efficient computation and analysis."
   ]
  },
  {
   "cell_type": "code",
   "execution_count": 106,
   "metadata": {},
   "outputs": [
    {
     "name": "stdout",
     "output_type": "stream",
     "text": [
      "1725\n",
      "[18.  9. 20. 11.  6.]\n"
     ]
    }
   ],
   "source": [
    "aqi_list = epa_data['aqi'].to_list()\n",
    "aqi_array = np.array(aqi_list) \n",
    "print(len(aqi_array)) \n",
    "print(aqi_array[:5])"
   ]
  },
  {
   "cell_type": "markdown",
   "metadata": {},
   "source": [
    "### **Deriving Summary Statistics**\n",
    "Next, I calculate some key summary statistics of the AQI data:\n",
    "\n",
    "- Maximum AQI value\n",
    "- Minimum AQI value\n",
    "- Median AQI value\n",
    "  \n",
    "Standard deviation of AQI"
   ]
  },
  {
   "cell_type": "code",
   "execution_count": 107,
   "metadata": {},
   "outputs": [
    {
     "name": "stdout",
     "output_type": "stream",
     "text": [
      "Max = 93.0\n",
      "Min = 0.0\n",
      "Median = 8.0\n",
      "Std = 10.382982538847708\n"
     ]
    }
   ],
   "source": [
    "print(f\"Max = {np.max(aqi_array)}\")\n",
    "print(f\"Min = {np.min(aqi_array)}\")\n",
    "print(f\"Median = {np.median(aqi_array)}\")\n",
    "print(f\"Std = {np.std(aqi_array)}\")"
   ]
  },
  {
   "cell_type": "markdown",
   "metadata": {},
   "source": [
    "### **Analyzing Cleanest AQI Readings**\n",
    "The goal is to analyze how many readings represent the cleanest air (defined as AQI values of 5 or less). Using NumPy’s element-wise operations, I can quickly calculate the percentage of readings that fall into this category."
   ]
  },
  {
   "cell_type": "code",
   "execution_count": 108,
   "metadata": {},
   "outputs": [
    {
     "name": "stdout",
     "output_type": "stream",
     "text": [
      "Percentage of AQI readings ≤5: 31.94%\n"
     ]
    }
   ],
   "source": [
    "# Create a boolean mask where True represents AQI values ≤5\n",
    "boolean_aqi = (aqi_array <= 5)  \n",
    "\n",
    "# Calculate the percentage of AQI values that are 5 or less\n",
    "percent_under_6 = boolean_aqi.sum() / len(boolean_aqi)  \n",
    "print(f\"Percentage of AQI readings ≤5: {percent_under_6:.2%}\")  \n"
   ]
  },
  {
   "cell_type": "markdown",
   "metadata": {},
   "source": [
    "## **Data Manipulation with pandas: Exploring Air Quality Data**"
   ]
  },
  {
   "cell_type": "markdown",
   "metadata": {},
   "source": [
    "### **Loading the AQI Data into a DataFrame**\n",
    "For this analysis, I started with a dataset containing air quality data from three states: California, Texas, and Pennsylvania. The first step was to load the data into a pandas DataFrame and inspect its structure."
   ]
  },
  {
   "cell_type": "code",
   "execution_count": 109,
   "metadata": {},
   "outputs": [
    {
     "data": {
      "text/html": [
       "<div>\n",
       "<style scoped>\n",
       "    .dataframe tbody tr th:only-of-type {\n",
       "        vertical-align: middle;\n",
       "    }\n",
       "\n",
       "    .dataframe tbody tr th {\n",
       "        vertical-align: top;\n",
       "    }\n",
       "\n",
       "    .dataframe thead th {\n",
       "        text-align: right;\n",
       "    }\n",
       "</style>\n",
       "<table border=\"1\" class=\"dataframe\">\n",
       "  <thead>\n",
       "    <tr style=\"text-align: right;\">\n",
       "      <th></th>\n",
       "      <th>state_code</th>\n",
       "      <th>state_name</th>\n",
       "      <th>county_code</th>\n",
       "      <th>county_name</th>\n",
       "      <th>aqi</th>\n",
       "    </tr>\n",
       "  </thead>\n",
       "  <tbody>\n",
       "    <tr>\n",
       "      <th>0</th>\n",
       "      <td>6</td>\n",
       "      <td>California</td>\n",
       "      <td>1</td>\n",
       "      <td>Alameda</td>\n",
       "      <td>11.0</td>\n",
       "    </tr>\n",
       "    <tr>\n",
       "      <th>1</th>\n",
       "      <td>6</td>\n",
       "      <td>California</td>\n",
       "      <td>7</td>\n",
       "      <td>Butte</td>\n",
       "      <td>6.0</td>\n",
       "    </tr>\n",
       "    <tr>\n",
       "      <th>2</th>\n",
       "      <td>6</td>\n",
       "      <td>California</td>\n",
       "      <td>19</td>\n",
       "      <td>Fresno</td>\n",
       "      <td>11.0</td>\n",
       "    </tr>\n",
       "    <tr>\n",
       "      <th>3</th>\n",
       "      <td>6</td>\n",
       "      <td>California</td>\n",
       "      <td>29</td>\n",
       "      <td>Kern</td>\n",
       "      <td>7.0</td>\n",
       "    </tr>\n",
       "    <tr>\n",
       "      <th>4</th>\n",
       "      <td>6</td>\n",
       "      <td>California</td>\n",
       "      <td>29</td>\n",
       "      <td>Kern</td>\n",
       "      <td>3.0</td>\n",
       "    </tr>\n",
       "  </tbody>\n",
       "</table>\n",
       "</div>"
      ],
      "text/plain": [
       "   state_code  state_name  county_code county_name   aqi\n",
       "0           6  California            1     Alameda  11.0\n",
       "1           6  California            7       Butte   6.0\n",
       "2           6  California           19      Fresno  11.0\n",
       "3           6  California           29        Kern   7.0\n",
       "4           6  California           29        Kern   3.0"
      ]
     },
     "execution_count": 109,
     "metadata": {},
     "output_type": "execute_result"
    }
   ],
   "source": [
    "# Load the dataset\n",
    "top3 = pd.read_csv(r'C:\\Users\\saswa\\Documents\\GitHub\\EPA-Air-Quality-AQI-Analysis\\Data\\epa_ca_tx_pa.csv')\n",
    "\n",
    "# Display the first five rows of the dataset\n",
    "top3.head()"
   ]
  },
  {
   "cell_type": "markdown",
   "metadata": {},
   "source": [
    "### **Examining Metadata and Summary Statistics**\n",
    "Once the dataset is loaded, the next step is to explore the basic information, such as the number of rows and columns, column names, and data types."
   ]
  },
  {
   "cell_type": "code",
   "execution_count": 110,
   "metadata": {},
   "outputs": [
    {
     "name": "stdout",
     "output_type": "stream",
     "text": [
      "<class 'pandas.core.frame.DataFrame'>\n",
      "RangeIndex: 546 entries, 0 to 545\n",
      "Data columns (total 5 columns):\n",
      " #   Column       Non-Null Count  Dtype  \n",
      "---  ------       --------------  -----  \n",
      " 0   state_code   546 non-null    int64  \n",
      " 1   state_name   546 non-null    object \n",
      " 2   county_code  546 non-null    int64  \n",
      " 3   county_name  546 non-null    object \n",
      " 4   aqi          546 non-null    float64\n",
      "dtypes: float64(1), int64(2), object(2)\n",
      "memory usage: 21.5+ KB\n"
     ]
    },
    {
     "data": {
      "text/html": [
       "<div>\n",
       "<style scoped>\n",
       "    .dataframe tbody tr th:only-of-type {\n",
       "        vertical-align: middle;\n",
       "    }\n",
       "\n",
       "    .dataframe tbody tr th {\n",
       "        vertical-align: top;\n",
       "    }\n",
       "\n",
       "    .dataframe thead th {\n",
       "        text-align: right;\n",
       "    }\n",
       "</style>\n",
       "<table border=\"1\" class=\"dataframe\">\n",
       "  <thead>\n",
       "    <tr style=\"text-align: right;\">\n",
       "      <th></th>\n",
       "      <th>state_code</th>\n",
       "      <th>county_code</th>\n",
       "      <th>aqi</th>\n",
       "    </tr>\n",
       "  </thead>\n",
       "  <tbody>\n",
       "    <tr>\n",
       "      <th>count</th>\n",
       "      <td>546.000000</td>\n",
       "      <td>546.000000</td>\n",
       "      <td>546.000000</td>\n",
       "    </tr>\n",
       "    <tr>\n",
       "      <th>mean</th>\n",
       "      <td>20.593407</td>\n",
       "      <td>83.179487</td>\n",
       "      <td>8.906593</td>\n",
       "    </tr>\n",
       "    <tr>\n",
       "      <th>std</th>\n",
       "      <td>19.001484</td>\n",
       "      <td>92.240873</td>\n",
       "      <td>9.078479</td>\n",
       "    </tr>\n",
       "    <tr>\n",
       "      <th>min</th>\n",
       "      <td>6.000000</td>\n",
       "      <td>1.000000</td>\n",
       "      <td>0.000000</td>\n",
       "    </tr>\n",
       "    <tr>\n",
       "      <th>25%</th>\n",
       "      <td>6.000000</td>\n",
       "      <td>29.000000</td>\n",
       "      <td>3.000000</td>\n",
       "    </tr>\n",
       "    <tr>\n",
       "      <th>50%</th>\n",
       "      <td>6.000000</td>\n",
       "      <td>66.000000</td>\n",
       "      <td>6.000000</td>\n",
       "    </tr>\n",
       "    <tr>\n",
       "      <th>75%</th>\n",
       "      <td>42.000000</td>\n",
       "      <td>98.500000</td>\n",
       "      <td>11.000000</td>\n",
       "    </tr>\n",
       "    <tr>\n",
       "      <th>max</th>\n",
       "      <td>48.000000</td>\n",
       "      <td>479.000000</td>\n",
       "      <td>93.000000</td>\n",
       "    </tr>\n",
       "  </tbody>\n",
       "</table>\n",
       "</div>"
      ],
      "text/plain": [
       "       state_code  county_code         aqi\n",
       "count  546.000000   546.000000  546.000000\n",
       "mean    20.593407    83.179487    8.906593\n",
       "std     19.001484    92.240873    9.078479\n",
       "min      6.000000     1.000000    0.000000\n",
       "25%      6.000000    29.000000    3.000000\n",
       "50%      6.000000    66.000000    6.000000\n",
       "75%     42.000000    98.500000   11.000000\n",
       "max     48.000000   479.000000   93.000000"
      ]
     },
     "execution_count": 110,
     "metadata": {},
     "output_type": "execute_result"
    }
   ],
   "source": [
    "# Get metadata of the dataframe\n",
    "top3.info()\n",
    "\n",
    "# Generate summary statistics for the numeric columns\n",
    "top3.describe()"
   ]
  },
  {
   "cell_type": "markdown",
   "metadata": {},
   "source": [
    "### **Exploring the Data: Insights by State and AQI**\n",
    "To better understand the distribution of the data, I'll start by examining the number of observations per state and sorting the data by AQI values."
   ]
  },
  {
   "cell_type": "code",
   "execution_count": 111,
   "metadata": {},
   "outputs": [
    {
     "data": {
      "text/html": [
       "<div>\n",
       "<style scoped>\n",
       "    .dataframe tbody tr th:only-of-type {\n",
       "        vertical-align: middle;\n",
       "    }\n",
       "\n",
       "    .dataframe tbody tr th {\n",
       "        vertical-align: top;\n",
       "    }\n",
       "\n",
       "    .dataframe thead th {\n",
       "        text-align: right;\n",
       "    }\n",
       "</style>\n",
       "<table border=\"1\" class=\"dataframe\">\n",
       "  <thead>\n",
       "    <tr style=\"text-align: right;\">\n",
       "      <th></th>\n",
       "      <th>state_code</th>\n",
       "      <th>state_name</th>\n",
       "      <th>county_code</th>\n",
       "      <th>county_name</th>\n",
       "      <th>aqi</th>\n",
       "    </tr>\n",
       "  </thead>\n",
       "  <tbody>\n",
       "    <tr>\n",
       "      <th>76</th>\n",
       "      <td>6</td>\n",
       "      <td>California</td>\n",
       "      <td>37</td>\n",
       "      <td>Los Angeles</td>\n",
       "      <td>93.0</td>\n",
       "    </tr>\n",
       "    <tr>\n",
       "      <th>146</th>\n",
       "      <td>6</td>\n",
       "      <td>California</td>\n",
       "      <td>37</td>\n",
       "      <td>Los Angeles</td>\n",
       "      <td>59.0</td>\n",
       "    </tr>\n",
       "    <tr>\n",
       "      <th>51</th>\n",
       "      <td>48</td>\n",
       "      <td>Texas</td>\n",
       "      <td>141</td>\n",
       "      <td>El Paso</td>\n",
       "      <td>47.0</td>\n",
       "    </tr>\n",
       "    <tr>\n",
       "      <th>41</th>\n",
       "      <td>6</td>\n",
       "      <td>California</td>\n",
       "      <td>83</td>\n",
       "      <td>Santa Barbara</td>\n",
       "      <td>47.0</td>\n",
       "    </tr>\n",
       "    <tr>\n",
       "      <th>122</th>\n",
       "      <td>6</td>\n",
       "      <td>California</td>\n",
       "      <td>59</td>\n",
       "      <td>Orange</td>\n",
       "      <td>47.0</td>\n",
       "    </tr>\n",
       "    <tr>\n",
       "      <th>184</th>\n",
       "      <td>6</td>\n",
       "      <td>California</td>\n",
       "      <td>59</td>\n",
       "      <td>Orange</td>\n",
       "      <td>47.0</td>\n",
       "    </tr>\n",
       "    <tr>\n",
       "      <th>80</th>\n",
       "      <td>6</td>\n",
       "      <td>California</td>\n",
       "      <td>65</td>\n",
       "      <td>Riverside</td>\n",
       "      <td>43.0</td>\n",
       "    </tr>\n",
       "    <tr>\n",
       "      <th>91</th>\n",
       "      <td>48</td>\n",
       "      <td>Texas</td>\n",
       "      <td>141</td>\n",
       "      <td>El Paso</td>\n",
       "      <td>40.0</td>\n",
       "    </tr>\n",
       "    <tr>\n",
       "      <th>136</th>\n",
       "      <td>48</td>\n",
       "      <td>Texas</td>\n",
       "      <td>141</td>\n",
       "      <td>El Paso</td>\n",
       "      <td>40.0</td>\n",
       "    </tr>\n",
       "    <tr>\n",
       "      <th>58</th>\n",
       "      <td>6</td>\n",
       "      <td>California</td>\n",
       "      <td>65</td>\n",
       "      <td>Riverside</td>\n",
       "      <td>40.0</td>\n",
       "    </tr>\n",
       "  </tbody>\n",
       "</table>\n",
       "</div>"
      ],
      "text/plain": [
       "     state_code  state_name  county_code    county_name   aqi\n",
       "76            6  California           37    Los Angeles  93.0\n",
       "146           6  California           37    Los Angeles  59.0\n",
       "51           48       Texas          141        El Paso  47.0\n",
       "41            6  California           83  Santa Barbara  47.0\n",
       "122           6  California           59         Orange  47.0\n",
       "184           6  California           59         Orange  47.0\n",
       "80            6  California           65      Riverside  43.0\n",
       "91           48       Texas          141        El Paso  40.0\n",
       "136          48       Texas          141        El Paso  40.0\n",
       "58            6  California           65      Riverside  40.0"
      ]
     },
     "execution_count": 111,
     "metadata": {},
     "output_type": "execute_result"
    }
   ],
   "source": [
    "# Count the number of rows per state\n",
    "top3['state_name'].value_counts()\n",
    "\n",
    "# Sort the data by AQI values in descending order\n",
    "top3_sorted = top3.sort_values('aqi', ascending=False)\n",
    "\n",
    "# Display the top 10 rows with the highest AQI values\n",
    "top3_sorted.head(10)\n"
   ]
  },
  {
   "cell_type": "markdown",
   "metadata": {},
   "source": [
    "### **Investigating the California Data**\n",
    "Now, focusing on the California data, I'll use Boolean masking to filter and analyze the relevant records."
   ]
  },
  {
   "cell_type": "code",
   "execution_count": 112,
   "metadata": {},
   "outputs": [
    {
     "name": "stdout",
     "output_type": "stream",
     "text": [
      "13.4\n"
     ]
    }
   ],
   "source": [
    "# Apply a Boolean mask to filter California data\n",
    "mask = top3_sorted['state_name'] == 'California'\n",
    "ca_df = top3_sorted[mask]\n",
    "\n",
    "# Display the first five rows of California data\n",
    "ca_df.head()\n",
    "\n",
    "# Verify the number of rows in the California data\n",
    "ca_df.shape\n",
    "\n",
    "# Count occurrences of each county in California\n",
    "ca_df['county_name'].value_counts()\n",
    "\n",
    "# Calculate the mean AQI for Los Angeles county\n",
    "mean_aqi = ca_df[ca_df['county_name'] == 'Los Angeles']['aqi'].mean()\n",
    "print(mean_aqi)"
   ]
  },
  {
   "cell_type": "markdown",
   "metadata": {},
   "source": [
    "### **Grouping Data by State**\n",
    "To calculate the average AQI per state, I can group the data by the state_name and apply aggregation functions."
   ]
  },
  {
   "cell_type": "code",
   "execution_count": 113,
   "metadata": {},
   "outputs": [
    {
     "data": {
      "text/html": [
       "<div>\n",
       "<style scoped>\n",
       "    .dataframe tbody tr th:only-of-type {\n",
       "        vertical-align: middle;\n",
       "    }\n",
       "\n",
       "    .dataframe tbody tr th {\n",
       "        vertical-align: top;\n",
       "    }\n",
       "\n",
       "    .dataframe thead th {\n",
       "        text-align: right;\n",
       "    }\n",
       "</style>\n",
       "<table border=\"1\" class=\"dataframe\">\n",
       "  <thead>\n",
       "    <tr style=\"text-align: right;\">\n",
       "      <th></th>\n",
       "      <th>aqi</th>\n",
       "    </tr>\n",
       "    <tr>\n",
       "      <th>state_name</th>\n",
       "      <th></th>\n",
       "    </tr>\n",
       "  </thead>\n",
       "  <tbody>\n",
       "    <tr>\n",
       "      <th>California</th>\n",
       "      <td>9.412281</td>\n",
       "    </tr>\n",
       "    <tr>\n",
       "      <th>Pennsylvania</th>\n",
       "      <td>6.690000</td>\n",
       "    </tr>\n",
       "    <tr>\n",
       "      <th>Texas</th>\n",
       "      <td>9.375000</td>\n",
       "    </tr>\n",
       "  </tbody>\n",
       "</table>\n",
       "</div>"
      ],
      "text/plain": [
       "                   aqi\n",
       "state_name            \n",
       "California    9.412281\n",
       "Pennsylvania  6.690000\n",
       "Texas         9.375000"
      ]
     },
     "execution_count": 113,
     "metadata": {},
     "output_type": "execute_result"
    }
   ],
   "source": [
    "# Group the data by state and calculate the mean AQI\n",
    "top3.groupby('state_name').agg({'aqi': 'mean'})\n"
   ]
  },
  {
   "cell_type": "markdown",
   "metadata": {},
   "source": [
    "### **Adding Data from Other States**\n",
    "To expand the dataset, the next step is to load data from another file containing information for the remaining states, and then combine it with the current dataset."
   ]
  },
  {
   "cell_type": "code",
   "execution_count": 114,
   "metadata": {},
   "outputs": [
    {
     "data": {
      "text/plain": [
       "True"
      ]
     },
     "execution_count": 114,
     "metadata": {},
     "output_type": "execute_result"
    }
   ],
   "source": [
    "# Load the second dataset\n",
    "other_states = pd.read_csv(r'C:\\Users\\saswa\\Documents\\GitHub\\EPA-Air-Quality-AQI-Analysis\\Data\\epa_others.csv')\n",
    "\n",
    "# Display the first five rows of the new dataset\n",
    "other_states.head(5)\n",
    "\n",
    "# Concatenate the data from top3 and other_states into a new dataframe\n",
    "combined_df = pd.concat([top3, other_states])\n",
    "\n",
    "# Verify the length of the combined dataframe\n",
    "len(combined_df) == len(top3) + len(other_states)\n"
   ]
  },
  {
   "cell_type": "markdown",
   "metadata": {},
   "source": [
    "### **Filtering Washington Data with Moderate AQI**\n",
    "In this section, I'll apply complex Boolean masking to filter data from Washington where AQI values are considered \"Moderate\" (between 51 and 100)."
   ]
  },
  {
   "cell_type": "code",
   "execution_count": 115,
   "metadata": {},
   "outputs": [
    {
     "data": {
      "text/html": [
       "<div>\n",
       "<style scoped>\n",
       "    .dataframe tbody tr th:only-of-type {\n",
       "        vertical-align: middle;\n",
       "    }\n",
       "\n",
       "    .dataframe tbody tr th {\n",
       "        vertical-align: top;\n",
       "    }\n",
       "\n",
       "    .dataframe thead th {\n",
       "        text-align: right;\n",
       "    }\n",
       "</style>\n",
       "<table border=\"1\" class=\"dataframe\">\n",
       "  <thead>\n",
       "    <tr style=\"text-align: right;\">\n",
       "      <th></th>\n",
       "      <th>state_code</th>\n",
       "      <th>state_name</th>\n",
       "      <th>county_code</th>\n",
       "      <th>county_name</th>\n",
       "      <th>aqi</th>\n",
       "    </tr>\n",
       "  </thead>\n",
       "  <tbody>\n",
       "    <tr>\n",
       "      <th>40</th>\n",
       "      <td>53</td>\n",
       "      <td>Washington</td>\n",
       "      <td>33</td>\n",
       "      <td>King</td>\n",
       "      <td>55.0</td>\n",
       "    </tr>\n",
       "    <tr>\n",
       "      <th>82</th>\n",
       "      <td>53</td>\n",
       "      <td>Washington</td>\n",
       "      <td>61</td>\n",
       "      <td>Snohomish</td>\n",
       "      <td>76.0</td>\n",
       "    </tr>\n",
       "    <tr>\n",
       "      <th>121</th>\n",
       "      <td>53</td>\n",
       "      <td>Washington</td>\n",
       "      <td>77</td>\n",
       "      <td>Yakima</td>\n",
       "      <td>58.0</td>\n",
       "    </tr>\n",
       "    <tr>\n",
       "      <th>122</th>\n",
       "      <td>53</td>\n",
       "      <td>Washington</td>\n",
       "      <td>77</td>\n",
       "      <td>Yakima</td>\n",
       "      <td>57.0</td>\n",
       "    </tr>\n",
       "  </tbody>\n",
       "</table>\n",
       "</div>"
      ],
      "text/plain": [
       "     state_code  state_name  county_code county_name   aqi\n",
       "40           53  Washington           33        King  55.0\n",
       "82           53  Washington           61   Snohomish  76.0\n",
       "121          53  Washington           77      Yakima  58.0\n",
       "122          53  Washington           77      Yakima  57.0"
      ]
     },
     "execution_count": 115,
     "metadata": {},
     "output_type": "execute_result"
    }
   ],
   "source": [
    "# Apply a Boolean mask to filter Washington data with Moderate AQI\n",
    "wa_df = combined_df[(combined_df['state_name'] == 'Washington') & (combined_df['aqi'] >= 51)]\n",
    "\n",
    "wa_df\n"
   ]
  },
  {
   "cell_type": "markdown",
   "metadata": {},
   "source": [
    "# **Conclusion**\n",
    "By leveraging the power of NumPy and pandas, this project successfully analyzed and summarized a large dataset of AQI readings across various U.S. states. Through careful data manipulation, statistical analysis, and efficient use of vectorized operations, I was able to extract meaningful insights that could inform environmental decision-making. Using dictionaries and sets allowed for quick organization and analysis of data by state and county, while NumPy provided the tools for performing complex statistical calculations efficiently.\n",
    "\n"
   ]
  },
  {
   "cell_type": "markdown",
   "metadata": {},
   "source": [
    "# **Final Conclusion**\n",
    "In conclusion, this analysis demonstrated the effectiveness of structured data manipulation using Python. By combining dictionary-based storage with NumPy’s computational efficiency and pandas’ data handling capabilities, we extracted key insights into AQI trends across U.S. states. This process is vital for making timely, data-driven decisions to improve environmental policies and protect public health. Pandas, with its intuitive methods for data handling, played a crucial role in simplifying complex data analysis tasks."
   ]
  },
  {
   "cell_type": "markdown",
   "metadata": {},
   "source": [
    "# **Top Three Recommendations**\n",
    "- Focus on High AQI Areas: By identifying regions with consistently high AQI values, particularly in states like California, targeted interventions could be introduced, such as air quality improvement initiatives and health advisories.\n",
    "- Enhance Data Reporting: Regularly update and expand the AQI dataset to include more regions and time periods, which would offer better insights into long-term trends and the effectiveness of air quality policies.\n",
    "- Promote Public Awareness Campaigns: Using the insights from AQI data, create targeted awareness campaigns in high-pollution areas, focusing on the health risks associated with poor air quality and encouraging actions to reduce emissions."
   ]
  },
  {
   "cell_type": "markdown",
   "metadata": {},
   "source": [
    "# **Application of Insights**\n",
    "The insights gained from the AQI data can be directly applied to public health and environmental policy. By identifying regions with high pollution levels, policymakers can prioritize those areas for interventions such as stricter emission controls, improved urban planning, or better pollution monitoring. Additionally, this analysis can inform public health campaigns aimed at educating communities on the risks of high AQI levels and encouraging proactive measures to reduce exposure.\n",
    "\n"
   ]
  },
  {
   "cell_type": "markdown",
   "metadata": {},
   "source": [
    "# **Next Steps**\n",
    "- Further Data Expansion: To deepen the analysis, consider incorporating AQI data from more regions and additional environmental factors such as temperature or traffic density, which could affect air quality.\n",
    "- Collaborate with Environmental Agencies: Share the findings with local environmental protection agencies to help guide more effective air quality control policies and interventions.\n",
    "- Develop Predictive Models: Explore the possibility of building predictive models that forecast AQI levels based on various factors (e.g., weather, traffic, industrial activity), helping authorities take preventative actions in advance.\n",
    "\n",
    "These steps provide a clear path forward for further utilizing data to make impactful decisions regarding air quality management and public health."
   ]
  }
 ],
 "metadata": {
  "kernelspec": {
   "display_name": "Python 3",
   "language": "python",
   "name": "python3"
  },
  "language_info": {
   "codemirror_mode": {
    "name": "ipython",
    "version": 3
   },
   "file_extension": ".py",
   "mimetype": "text/x-python",
   "name": "python",
   "nbconvert_exporter": "python",
   "pygments_lexer": "ipython3",
   "version": "3.13.0"
  }
 },
 "nbformat": 4,
 "nbformat_minor": 2
}
